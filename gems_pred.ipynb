{
  "nbformat": 4,
  "nbformat_minor": 0,
  "metadata": {
    "colab": {
      "name": "gems_pred.ipynb",
      "provenance": []
    },
    "kernelspec": {
      "name": "python3",
      "display_name": "Python 3"
    },
    "language_info": {
      "name": "python"
    },
    "accelerator": "GPU"
  },
  "cells": [
    {
      "cell_type": "code",
      "metadata": {
        "id": "2cisSn2FQ0jY"
      },
      "source": [
        "import tensorflow\n",
        "import numpy as np\n",
        "from tensorflow.keras.preprocessing import image\n",
        "from tensorflow.keras.layers import Conv2D,MaxPool2D,Flatten,Dense,Dropout\n",
        "from keras.preprocessing.image import ImageDataGenerator\n",
        "import matplotlib.pyplot as plt"
      ],
      "execution_count": 2,
      "outputs": []
    },
    {
      "cell_type": "code",
      "metadata": {
        "colab": {
          "base_uri": "https://localhost:8080/"
        },
        "id": "0O0iFfMLROxd",
        "outputId": "d3d10df8-0015-4b2b-c481-e72d6eb8035e"
      },
      "source": [
        "ls"
      ],
      "execution_count": 3,
      "outputs": [
        {
          "output_type": "stream",
          "text": [
            "\u001b[0m\u001b[01;34mdrive\u001b[0m/  \u001b[01;34msample_data\u001b[0m/\n"
          ],
          "name": "stdout"
        }
      ]
    },
    {
      "cell_type": "code",
      "metadata": {
        "colab": {
          "base_uri": "https://localhost:8080/"
        },
        "id": "MFM-mkESRQq2",
        "outputId": "7b4dd806-e1a7-4cf3-a272-e1ac8011daa5"
      },
      "source": [
        "cd /content/drive/MyDrive/Colab Notebooks/gemstone"
      ],
      "execution_count": 4,
      "outputs": [
        {
          "output_type": "stream",
          "text": [
            "/content/drive/MyDrive/Colab Notebooks/gemstone\n"
          ],
          "name": "stdout"
        }
      ]
    },
    {
      "cell_type": "code",
      "metadata": {
        "colab": {
          "base_uri": "https://localhost:8080/"
        },
        "id": "DXUkUQP-RXoK",
        "outputId": "109e4ebf-7cb5-4d47-db05-b9278ff51973"
      },
      "source": [
        "! unzip gems.zip"
      ],
      "execution_count": 15,
      "outputs": [
        {
          "output_type": "stream",
          "text": [
            "Archive:  gems.zip\n",
            "replace test/Alexandrite/alexandrite_18.jpg? [y]es, [n]o, [A]ll, [N]one, [r]ename: "
          ],
          "name": "stdout"
        }
      ]
    },
    {
      "cell_type": "code",
      "metadata": {
        "id": "EY3OlPWxRa1A"
      },
      "source": [
        "train_datagen=ImageDataGenerator(rescale=1./255,shear_range=0.2,zoom_range=0.2,horizontal_flip=True)\n",
        "test_datagen=ImageDataGenerator(rescale=1./255)"
      ],
      "execution_count": 3,
      "outputs": []
    },
    {
      "cell_type": "code",
      "metadata": {
        "colab": {
          "base_uri": "https://localhost:8080/"
        },
        "id": "M7oB6ZZ7SE9r",
        "outputId": "fae69b3c-5567-4282-896f-e53153345d06"
      },
      "source": [
        "training_set=train_datagen.flow_from_directory('/content/drive/MyDrive/Colab Notebooks/gemstone/train',\n",
        "                                               target_size=(64,64),\n",
        "                                               batch_size=32,class_mode='sparse')\n",
        "test_set=test_datagen.flow_from_directory('/content/drive/MyDrive/Colab Notebooks/gemstone/test',\n",
        "                                               target_size=(64,64),\n",
        "                                               batch_size=32,class_mode='sparse')"
      ],
      "execution_count": 4,
      "outputs": [
        {
          "output_type": "stream",
          "text": [
            "Found 2856 images belonging to 87 classes.\n",
            "Found 363 images belonging to 87 classes.\n"
          ],
          "name": "stdout"
        }
      ]
    },
    {
      "cell_type": "code",
      "metadata": {
        "id": "p5btioCe4YT8"
      },
      "source": [
        ""
      ],
      "execution_count": 11,
      "outputs": []
    },
    {
      "cell_type": "code",
      "metadata": {
        "id": "hQdcK792SE-r"
      },
      "source": [
        "gems=['Alexandrite','Almandine','Amazonite','Amber','Amethyst','Ametrine','Andalusite','Andradite','Aquamarine','Aventurine','Aventurine','Benitoite','Beryl Golden','Bixbite','Bloodstone','Blue Lace Agate','Carnelian','Cats Eye','Chalcedony','Chalcedony Blue','Chrome Diopside','Chrysoberyl','Chrysocolla','Chrysoprase','Citrine','Coral','Danburite','Diamond','Diaspore','Dumortierite','Emerald','Fluorite','Garnet Red','Goshenite','Grossular','Hessonite','Hiddenite','Iolite','Jade','Jasper','Kunzite','Kyanite','Labradorite','Lapis Lazuli','Larimar','Malachite','Moonstone','Morganite','Onyx Black','Onyx Green','Onyx Red','Opal','Pearl','Peridot','Prehnite','Pyrite','Pyrope','Quartz Beer','Quartz Lemon','Quartz Rose','Quartz Rutilated','Quartz Smoky','Rhodochrosite','Rhodolite','Rhodonite','Ruby','Sapphire Blue','Sapphire Pink','Sapphire Purple','Sapphire Yellow','Scapolite','Serpentine','Sodalite','Spessartite','Sphene','Spinel','Spodumene','Sunstone','Tanzanite','Tigers Eye','Topaz','Tourmaline','Tsavorite','Turquoise','Variscite','Zircon','Zoisite']"
      ],
      "execution_count": 5,
      "outputs": []
    },
    {
      "cell_type": "code",
      "metadata": {
        "colab": {
          "base_uri": "https://localhost:8080/"
        },
        "id": "3jN6-AN4SFD9",
        "outputId": "8b707ff5-25a6-4aea-fadb-f56caa90e9d4"
      },
      "source": [
        "len(gems)"
      ],
      "execution_count": 6,
      "outputs": [
        {
          "output_type": "execute_result",
          "data": {
            "text/plain": [
              "87"
            ]
          },
          "metadata": {
            "tags": []
          },
          "execution_count": 6
        }
      ]
    },
    {
      "cell_type": "code",
      "metadata": {
        "colab": {
          "base_uri": "https://localhost:8080/"
        },
        "id": "2ILPA4oASFE9",
        "outputId": "ce5d61b3-758e-43d9-c686-b1e28da59636"
      },
      "source": [
        "gems"
      ],
      "execution_count": 7,
      "outputs": [
        {
          "output_type": "execute_result",
          "data": {
            "text/plain": [
              "['Alexandrite',\n",
              " 'Almandine',\n",
              " 'Amazonite',\n",
              " 'Amber',\n",
              " 'Amethyst',\n",
              " 'Ametrine',\n",
              " 'Andalusite',\n",
              " 'Andradite',\n",
              " 'Aquamarine',\n",
              " 'Aventurine',\n",
              " 'Aventurine',\n",
              " 'Benitoite',\n",
              " 'Beryl Golden',\n",
              " 'Bixbite',\n",
              " 'Bloodstone',\n",
              " 'Blue Lace Agate',\n",
              " 'Carnelian',\n",
              " 'Cats Eye',\n",
              " 'Chalcedony',\n",
              " 'Chalcedony Blue',\n",
              " 'Chrome Diopside',\n",
              " 'Chrysoberyl',\n",
              " 'Chrysocolla',\n",
              " 'Chrysoprase',\n",
              " 'Citrine',\n",
              " 'Coral',\n",
              " 'Danburite',\n",
              " 'Diamond',\n",
              " 'Diaspore',\n",
              " 'Dumortierite',\n",
              " 'Emerald',\n",
              " 'Fluorite',\n",
              " 'Garnet Red',\n",
              " 'Goshenite',\n",
              " 'Grossular',\n",
              " 'Hessonite',\n",
              " 'Hiddenite',\n",
              " 'Iolite',\n",
              " 'Jade',\n",
              " 'Jasper',\n",
              " 'Kunzite',\n",
              " 'Kyanite',\n",
              " 'Labradorite',\n",
              " 'Lapis Lazuli',\n",
              " 'Larimar',\n",
              " 'Malachite',\n",
              " 'Moonstone',\n",
              " 'Morganite',\n",
              " 'Onyx Black',\n",
              " 'Onyx Green',\n",
              " 'Onyx Red',\n",
              " 'Opal',\n",
              " 'Pearl',\n",
              " 'Peridot',\n",
              " 'Prehnite',\n",
              " 'Pyrite',\n",
              " 'Pyrope',\n",
              " 'Quartz Beer',\n",
              " 'Quartz Lemon',\n",
              " 'Quartz Rose',\n",
              " 'Quartz Rutilated',\n",
              " 'Quartz Smoky',\n",
              " 'Rhodochrosite',\n",
              " 'Rhodolite',\n",
              " 'Rhodonite',\n",
              " 'Ruby',\n",
              " 'Sapphire Blue',\n",
              " 'Sapphire Pink',\n",
              " 'Sapphire Purple',\n",
              " 'Sapphire Yellow',\n",
              " 'Scapolite',\n",
              " 'Serpentine',\n",
              " 'Sodalite',\n",
              " 'Spessartite',\n",
              " 'Sphene',\n",
              " 'Spinel',\n",
              " 'Spodumene',\n",
              " 'Sunstone',\n",
              " 'Tanzanite',\n",
              " 'Tigers Eye',\n",
              " 'Topaz',\n",
              " 'Tourmaline',\n",
              " 'Tsavorite',\n",
              " 'Turquoise',\n",
              " 'Variscite',\n",
              " 'Zircon',\n",
              " 'Zoisite']"
            ]
          },
          "metadata": {
            "tags": []
          },
          "execution_count": 7
        }
      ]
    },
    {
      "cell_type": "code",
      "metadata": {
        "id": "I44FR89RSFJQ"
      },
      "source": [
        "from tensorflow.keras.models import Sequential\n",
        "model=Sequential()\n",
        "model.add(Conv2D(32 , 3 , activation='relu' , padding='same', kernel_initializer='he_uniform', input_shape=(64,64, 3)))\n",
        "model.add(MaxPool2D(2,2))\n",
        "\n",
        "model.add(Conv2D(64 , 3 , activation='relu' , padding='same', kernel_initializer='he_uniform',)) \n",
        "model.add(MaxPool2D(2,2))\n",
        "\n",
        "model.add(Conv2D(128 , 3 , activation='relu' ,  padding='same', kernel_initializer='he_uniform')) \n",
        "model.add(MaxPool2D(2,2))\n",
        "\n",
        "model.add(Conv2D(128 , 3 , activation='relu' ,  padding='same', kernel_initializer='he_uniform'))  \n",
        "model.add(MaxPool2D(2,2))\n",
        "model.add(Conv2D(128 , 3 , activation='relu' ,  padding='same', kernel_initializer='he_uniform'))  \n",
        "model.add(MaxPool2D(2,2))\n",
        "model.add(Flatten())\n",
        "model.add(Dropout(0.5))\n",
        "model.add(Dense(512 , activation='relu'))\n",
        "\n",
        "\n",
        "\n",
        "\n",
        "\n",
        "model.add(Dense(87, activation='softmax'))"
      ],
      "execution_count": 8,
      "outputs": []
    },
    {
      "cell_type": "code",
      "metadata": {
        "id": "D7ybvKEJSFKO"
      },
      "source": [
        "model.compile('Adam' , loss = tensorflow.keras.losses.sparse_categorical_crossentropy , metrics=['accuracy'])"
      ],
      "execution_count": 9,
      "outputs": []
    },
    {
      "cell_type": "code",
      "metadata": {
        "colab": {
          "base_uri": "https://localhost:8080/"
        },
        "id": "Hc5TII5Zl5kq",
        "outputId": "0a5f72f1-57b6-4806-88f6-9aa2945b6e99"
      },
      "source": [
        "model.fit(training_set , epochs = 70, batch_size = 32,validation_data=test_set)"
      ],
      "execution_count": 10,
      "outputs": [
        {
          "output_type": "stream",
          "text": [
            "Epoch 1/70\n",
            "90/90 [==============================] - 25s 251ms/step - loss: 4.5423 - accuracy: 0.0127 - val_loss: 4.0133 - val_accuracy: 0.0413\n",
            "Epoch 2/70\n",
            "90/90 [==============================] - 17s 187ms/step - loss: 3.6991 - accuracy: 0.0712 - val_loss: 2.7017 - val_accuracy: 0.2204\n",
            "Epoch 3/70\n",
            "90/90 [==============================] - 17s 188ms/step - loss: 2.7733 - accuracy: 0.2114 - val_loss: 2.2481 - val_accuracy: 0.3278\n",
            "Epoch 4/70\n",
            "90/90 [==============================] - 17s 187ms/step - loss: 2.3814 - accuracy: 0.2865 - val_loss: 2.0685 - val_accuracy: 0.3581\n",
            "Epoch 5/70\n",
            "90/90 [==============================] - 17s 188ms/step - loss: 2.0642 - accuracy: 0.3641 - val_loss: 2.0499 - val_accuracy: 0.3664\n",
            "Epoch 6/70\n",
            "90/90 [==============================] - 17s 186ms/step - loss: 2.0133 - accuracy: 0.3753 - val_loss: 1.8725 - val_accuracy: 0.4050\n",
            "Epoch 7/70\n",
            "90/90 [==============================] - 17s 186ms/step - loss: 1.8204 - accuracy: 0.4151 - val_loss: 1.6823 - val_accuracy: 0.4463\n",
            "Epoch 8/70\n",
            "90/90 [==============================] - 17s 187ms/step - loss: 1.6958 - accuracy: 0.4567 - val_loss: 1.7620 - val_accuracy: 0.4628\n",
            "Epoch 9/70\n",
            "90/90 [==============================] - 17s 186ms/step - loss: 1.6171 - accuracy: 0.4726 - val_loss: 1.6704 - val_accuracy: 0.5041\n",
            "Epoch 10/70\n",
            "90/90 [==============================] - 17s 189ms/step - loss: 1.5584 - accuracy: 0.4955 - val_loss: 1.6440 - val_accuracy: 0.4601\n",
            "Epoch 11/70\n",
            "90/90 [==============================] - 17s 191ms/step - loss: 1.5374 - accuracy: 0.4862 - val_loss: 1.5703 - val_accuracy: 0.5152\n",
            "Epoch 12/70\n",
            "90/90 [==============================] - 17s 187ms/step - loss: 1.3769 - accuracy: 0.5396 - val_loss: 1.5049 - val_accuracy: 0.4931\n",
            "Epoch 13/70\n",
            "90/90 [==============================] - 17s 190ms/step - loss: 1.2672 - accuracy: 0.5982 - val_loss: 1.6429 - val_accuracy: 0.5014\n",
            "Epoch 14/70\n",
            "90/90 [==============================] - 17s 191ms/step - loss: 1.3107 - accuracy: 0.5788 - val_loss: 1.5540 - val_accuracy: 0.4959\n",
            "Epoch 15/70\n",
            "90/90 [==============================] - 17s 190ms/step - loss: 1.2858 - accuracy: 0.5820 - val_loss: 1.5608 - val_accuracy: 0.5234\n",
            "Epoch 16/70\n",
            "90/90 [==============================] - 17s 190ms/step - loss: 1.2035 - accuracy: 0.5867 - val_loss: 1.5535 - val_accuracy: 0.4931\n",
            "Epoch 17/70\n",
            "90/90 [==============================] - 17s 189ms/step - loss: 1.2076 - accuracy: 0.5843 - val_loss: 1.4288 - val_accuracy: 0.5317\n",
            "Epoch 18/70\n",
            "90/90 [==============================] - 17s 188ms/step - loss: 1.1002 - accuracy: 0.6205 - val_loss: 1.5866 - val_accuracy: 0.5152\n",
            "Epoch 19/70\n",
            "90/90 [==============================] - 17s 188ms/step - loss: 1.1090 - accuracy: 0.6263 - val_loss: 1.5603 - val_accuracy: 0.5510\n",
            "Epoch 20/70\n",
            "90/90 [==============================] - 17s 189ms/step - loss: 0.9970 - accuracy: 0.6648 - val_loss: 1.5907 - val_accuracy: 0.5289\n",
            "Epoch 21/70\n",
            "90/90 [==============================] - 17s 189ms/step - loss: 0.9626 - accuracy: 0.6760 - val_loss: 1.4434 - val_accuracy: 0.5702\n",
            "Epoch 22/70\n",
            "90/90 [==============================] - 17s 190ms/step - loss: 1.0043 - accuracy: 0.6679 - val_loss: 1.5300 - val_accuracy: 0.5510\n",
            "Epoch 23/70\n",
            "90/90 [==============================] - 17s 190ms/step - loss: 0.9030 - accuracy: 0.6909 - val_loss: 1.7499 - val_accuracy: 0.4931\n",
            "Epoch 24/70\n",
            "90/90 [==============================] - 17s 191ms/step - loss: 0.9961 - accuracy: 0.6712 - val_loss: 1.5111 - val_accuracy: 0.5730\n",
            "Epoch 25/70\n",
            "90/90 [==============================] - 17s 187ms/step - loss: 0.8661 - accuracy: 0.7123 - val_loss: 1.4408 - val_accuracy: 0.5813\n",
            "Epoch 26/70\n",
            "90/90 [==============================] - 17s 186ms/step - loss: 0.8926 - accuracy: 0.7135 - val_loss: 1.6825 - val_accuracy: 0.5399\n",
            "Epoch 27/70\n",
            "90/90 [==============================] - 17s 186ms/step - loss: 0.9380 - accuracy: 0.6804 - val_loss: 1.5873 - val_accuracy: 0.5482\n",
            "Epoch 28/70\n",
            "90/90 [==============================] - 17s 188ms/step - loss: 0.7908 - accuracy: 0.7279 - val_loss: 1.6266 - val_accuracy: 0.5592\n",
            "Epoch 29/70\n",
            "90/90 [==============================] - 17s 184ms/step - loss: 0.8309 - accuracy: 0.7277 - val_loss: 1.4479 - val_accuracy: 0.6006\n",
            "Epoch 30/70\n",
            "90/90 [==============================] - 17s 189ms/step - loss: 0.7850 - accuracy: 0.7371 - val_loss: 1.4067 - val_accuracy: 0.5785\n",
            "Epoch 31/70\n",
            "90/90 [==============================] - 17s 185ms/step - loss: 0.7078 - accuracy: 0.7517 - val_loss: 1.3282 - val_accuracy: 0.6116\n",
            "Epoch 32/70\n",
            "90/90 [==============================] - 17s 186ms/step - loss: 0.6960 - accuracy: 0.7694 - val_loss: 1.3745 - val_accuracy: 0.6061\n",
            "Epoch 33/70\n",
            "90/90 [==============================] - 17s 186ms/step - loss: 0.6786 - accuracy: 0.7681 - val_loss: 1.5941 - val_accuracy: 0.5923\n",
            "Epoch 34/70\n",
            "90/90 [==============================] - 17s 185ms/step - loss: 0.6929 - accuracy: 0.7529 - val_loss: 1.4267 - val_accuracy: 0.5978\n",
            "Epoch 35/70\n",
            "90/90 [==============================] - 17s 185ms/step - loss: 0.6606 - accuracy: 0.7709 - val_loss: 1.6141 - val_accuracy: 0.5923\n",
            "Epoch 36/70\n",
            "90/90 [==============================] - 16s 181ms/step - loss: 0.6759 - accuracy: 0.7651 - val_loss: 1.6299 - val_accuracy: 0.5758\n",
            "Epoch 37/70\n",
            "90/90 [==============================] - 16s 182ms/step - loss: 0.6126 - accuracy: 0.7837 - val_loss: 1.6613 - val_accuracy: 0.6006\n",
            "Epoch 38/70\n",
            "90/90 [==============================] - 17s 184ms/step - loss: 0.5633 - accuracy: 0.8077 - val_loss: 1.5457 - val_accuracy: 0.6226\n",
            "Epoch 39/70\n",
            "90/90 [==============================] - 16s 183ms/step - loss: 0.5937 - accuracy: 0.7995 - val_loss: 1.6809 - val_accuracy: 0.5758\n",
            "Epoch 40/70\n",
            "90/90 [==============================] - 17s 186ms/step - loss: 0.5413 - accuracy: 0.8039 - val_loss: 1.4610 - val_accuracy: 0.6198\n",
            "Epoch 41/70\n",
            "90/90 [==============================] - 17s 189ms/step - loss: 0.6332 - accuracy: 0.7800 - val_loss: 1.4344 - val_accuracy: 0.6198\n",
            "Epoch 42/70\n",
            "90/90 [==============================] - 17s 192ms/step - loss: 0.5752 - accuracy: 0.7924 - val_loss: 1.4344 - val_accuracy: 0.6226\n",
            "Epoch 43/70\n",
            "90/90 [==============================] - 17s 189ms/step - loss: 0.5762 - accuracy: 0.8070 - val_loss: 1.8660 - val_accuracy: 0.5730\n",
            "Epoch 44/70\n",
            "90/90 [==============================] - 17s 189ms/step - loss: 0.5481 - accuracy: 0.8116 - val_loss: 1.4362 - val_accuracy: 0.6253\n",
            "Epoch 45/70\n",
            "90/90 [==============================] - 17s 186ms/step - loss: 0.4792 - accuracy: 0.8358 - val_loss: 1.7021 - val_accuracy: 0.5813\n",
            "Epoch 46/70\n",
            "90/90 [==============================] - 17s 185ms/step - loss: 0.4958 - accuracy: 0.8178 - val_loss: 1.5698 - val_accuracy: 0.6061\n",
            "Epoch 47/70\n",
            "90/90 [==============================] - 17s 187ms/step - loss: 0.4979 - accuracy: 0.8262 - val_loss: 1.7147 - val_accuracy: 0.5785\n",
            "Epoch 48/70\n",
            "90/90 [==============================] - 17s 187ms/step - loss: 0.4911 - accuracy: 0.8161 - val_loss: 1.5957 - val_accuracy: 0.6033\n",
            "Epoch 49/70\n",
            "90/90 [==============================] - 17s 187ms/step - loss: 0.5329 - accuracy: 0.8088 - val_loss: 1.5751 - val_accuracy: 0.6006\n",
            "Epoch 50/70\n",
            "90/90 [==============================] - 17s 187ms/step - loss: 0.5025 - accuracy: 0.8181 - val_loss: 1.6470 - val_accuracy: 0.5868\n",
            "Epoch 51/70\n",
            "90/90 [==============================] - 17s 184ms/step - loss: 0.4884 - accuracy: 0.8362 - val_loss: 1.5401 - val_accuracy: 0.6364\n",
            "Epoch 52/70\n",
            "90/90 [==============================] - 17s 187ms/step - loss: 0.4852 - accuracy: 0.8486 - val_loss: 1.5940 - val_accuracy: 0.6226\n",
            "Epoch 53/70\n",
            "90/90 [==============================] - 17s 184ms/step - loss: 0.4663 - accuracy: 0.8368 - val_loss: 1.5948 - val_accuracy: 0.6088\n",
            "Epoch 54/70\n",
            "90/90 [==============================] - 17s 186ms/step - loss: 0.4058 - accuracy: 0.8614 - val_loss: 1.7112 - val_accuracy: 0.6171\n",
            "Epoch 55/70\n",
            "90/90 [==============================] - 17s 187ms/step - loss: 0.4281 - accuracy: 0.8485 - val_loss: 1.7885 - val_accuracy: 0.6309\n",
            "Epoch 56/70\n",
            "90/90 [==============================] - 17s 185ms/step - loss: 0.4445 - accuracy: 0.8505 - val_loss: 1.7242 - val_accuracy: 0.6143\n",
            "Epoch 57/70\n",
            "90/90 [==============================] - 17s 185ms/step - loss: 0.4614 - accuracy: 0.8328 - val_loss: 1.7950 - val_accuracy: 0.5895\n",
            "Epoch 58/70\n",
            "90/90 [==============================] - 17s 185ms/step - loss: 0.5078 - accuracy: 0.8267 - val_loss: 1.7584 - val_accuracy: 0.6309\n",
            "Epoch 59/70\n",
            "90/90 [==============================] - 17s 186ms/step - loss: 0.3942 - accuracy: 0.8664 - val_loss: 1.7627 - val_accuracy: 0.6033\n",
            "Epoch 60/70\n",
            "90/90 [==============================] - 17s 186ms/step - loss: 0.3645 - accuracy: 0.8719 - val_loss: 1.8302 - val_accuracy: 0.6309\n",
            "Epoch 61/70\n",
            "90/90 [==============================] - 17s 189ms/step - loss: 0.3844 - accuracy: 0.8705 - val_loss: 1.6771 - val_accuracy: 0.6529\n",
            "Epoch 62/70\n",
            "90/90 [==============================] - 17s 187ms/step - loss: 0.4328 - accuracy: 0.8685 - val_loss: 1.6036 - val_accuracy: 0.6419\n",
            "Epoch 63/70\n",
            "90/90 [==============================] - 17s 186ms/step - loss: 0.3883 - accuracy: 0.8627 - val_loss: 1.6715 - val_accuracy: 0.6116\n",
            "Epoch 64/70\n",
            "90/90 [==============================] - 17s 186ms/step - loss: 0.3426 - accuracy: 0.8814 - val_loss: 1.6615 - val_accuracy: 0.6171\n",
            "Epoch 65/70\n",
            "90/90 [==============================] - 17s 184ms/step - loss: 0.3526 - accuracy: 0.8748 - val_loss: 1.8755 - val_accuracy: 0.6198\n",
            "Epoch 66/70\n",
            "90/90 [==============================] - 17s 188ms/step - loss: 0.4074 - accuracy: 0.8598 - val_loss: 1.8835 - val_accuracy: 0.5895\n",
            "Epoch 67/70\n",
            "90/90 [==============================] - 17s 185ms/step - loss: 0.3379 - accuracy: 0.8766 - val_loss: 1.8974 - val_accuracy: 0.5923\n",
            "Epoch 68/70\n",
            "90/90 [==============================] - 17s 185ms/step - loss: 0.3974 - accuracy: 0.8556 - val_loss: 1.8000 - val_accuracy: 0.6336\n",
            "Epoch 69/70\n",
            "90/90 [==============================] - 17s 185ms/step - loss: 0.3721 - accuracy: 0.8861 - val_loss: 1.8599 - val_accuracy: 0.6281\n",
            "Epoch 70/70\n",
            "90/90 [==============================] - 17s 187ms/step - loss: 0.3657 - accuracy: 0.8779 - val_loss: 1.7571 - val_accuracy: 0.6639\n"
          ],
          "name": "stdout"
        },
        {
          "output_type": "execute_result",
          "data": {
            "text/plain": [
              "<tensorflow.python.keras.callbacks.History at 0x7f3161cb0710>"
            ]
          },
          "metadata": {
            "tags": []
          },
          "execution_count": 10
        }
      ]
    },
    {
      "cell_type": "markdown",
      "metadata": {
        "id": "FHmfbC7Q92b_"
      },
      "source": [
        ""
      ]
    },
    {
      "cell_type": "code",
      "metadata": {
        "id": "GUL9uRB_l5mI"
      },
      "source": [
        "model.save('gem.h5')"
      ],
      "execution_count": 11,
      "outputs": []
    },
    {
      "cell_type": "code",
      "metadata": {
        "id": "kdqYMmDMl5qO"
      },
      "source": [
        "model=tensorflow.keras.models.load_model('gem.h5')"
      ],
      "execution_count": 12,
      "outputs": []
    },
    {
      "cell_type": "code",
      "metadata": {
        "id": "gQMKvdnrl5rU"
      },
      "source": [
        "test_image=image.load_img('/content/drive/MyDrive/Colab Notebooks/gemstone/test/Pearl/pearl_18.jpg',target_size=(64,64))\n",
        "test_image=image.img_to_array(test_image)\n",
        "test_image=test_image.reshape(1,64,64,3)\n",
        "y_pred= model.predict(test_image)\n"
      ],
      "execution_count": 21,
      "outputs": []
    },
    {
      "cell_type": "code",
      "metadata": {
        "colab": {
          "base_uri": "https://localhost:8080/"
        },
        "id": "Ai5hJHcBHDly",
        "outputId": "2c90c8f7-10b8-4ff5-a61d-483b9bd474be"
      },
      "source": [
        "np.argmax(y_pred)   #Pearl"
      ],
      "execution_count": 22,
      "outputs": [
        {
          "output_type": "execute_result",
          "data": {
            "text/plain": [
              "52"
            ]
          },
          "metadata": {
            "tags": []
          },
          "execution_count": 22
        }
      ]
    },
    {
      "cell_type": "code",
      "metadata": {
        "colab": {
          "base_uri": "https://localhost:8080/",
          "height": 35
        },
        "id": "SA4GK4TqGK-5",
        "outputId": "3e3f2b00-6f53-497f-9d49-e0b3ae33339a"
      },
      "source": [
        "gems[52]"
      ],
      "execution_count": 23,
      "outputs": [
        {
          "output_type": "execute_result",
          "data": {
            "application/vnd.google.colaboratory.intrinsic+json": {
              "type": "string"
            },
            "text/plain": [
              "'Pearl'"
            ]
          },
          "metadata": {
            "tags": []
          },
          "execution_count": 23
        }
      ]
    },
    {
      "cell_type": "code",
      "metadata": {
        "id": "2TFzFWUHHxx8"
      },
      "source": [
        "test_image=image.load_img('/content/drive/MyDrive/Colab Notebooks/gemstone/test/Morganite/morganite_28.jpg',target_size=(64,64))\n",
        "test_image=image.img_to_array(test_image)\n",
        "test_image=test_image.reshape(1,64,64,3)\n",
        "y_pred= model.predict(test_image)\n"
      ],
      "execution_count": 24,
      "outputs": []
    },
    {
      "cell_type": "code",
      "metadata": {
        "colab": {
          "base_uri": "https://localhost:8080/"
        },
        "id": "2zV03lghHxzI",
        "outputId": "88e5f025-b29a-4503-f1f1-177623c5c959"
      },
      "source": [
        "np.argmax(y_pred)  #Morganite"
      ],
      "execution_count": 25,
      "outputs": [
        {
          "output_type": "execute_result",
          "data": {
            "text/plain": [
              "47"
            ]
          },
          "metadata": {
            "tags": []
          },
          "execution_count": 25
        }
      ]
    },
    {
      "cell_type": "code",
      "metadata": {
        "colab": {
          "base_uri": "https://localhost:8080/",
          "height": 35
        },
        "id": "DTJj50lYH8HI",
        "outputId": "01d04633-15e1-45de-9b12-3b0787e6a4f3"
      },
      "source": [
        "gems[47]"
      ],
      "execution_count": 26,
      "outputs": [
        {
          "output_type": "execute_result",
          "data": {
            "application/vnd.google.colaboratory.intrinsic+json": {
              "type": "string"
            },
            "text/plain": [
              "'Morganite'"
            ]
          },
          "metadata": {
            "tags": []
          },
          "execution_count": 26
        }
      ]
    },
    {
      "cell_type": "code",
      "metadata": {
        "id": "nbo-knPtH-h4"
      },
      "source": [
        ""
      ],
      "execution_count": null,
      "outputs": []
    },
    {
      "cell_type": "code",
      "metadata": {
        "id": "YZ9t4CuXILkb"
      },
      "source": [
        ""
      ],
      "execution_count": null,
      "outputs": []
    }
  ]
}